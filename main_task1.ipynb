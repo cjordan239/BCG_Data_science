{
 "cells": [
  {
   "cell_type": "markdown",
   "id": "a207638d-2d90-4a41-81e0-f86b35a174f9",
   "metadata": {},
   "source": [
    "# Exploratory Data Analysis Starter\n",
    "\n",
    "## Import packages"
   ]
  },
  {
   "cell_type": "code",
   "execution_count": 1,
   "id": "21fa22a3-62fc-4ee9-ad3b-5e3fbc059bdf",
   "metadata": {},
   "outputs": [],
   "source": [
    "import matplotlib.pyplot as plt\n",
    "import seaborn as sns\n",
    "import pandas as pd\n",
    "\n",
    "# Shows plots in jupyter notebook\n",
    "%matplotlib inline\n",
    "\n",
    "# Set plot style\n",
    "sns.set(color_codes=True)\n",
    "\n",
    "client_df = pd.read_csv('client_data.csv')\n",
    "price_df = pd.read_csv('price_data.csv')"
   ]
  },
  {
   "cell_type": "markdown",
   "id": "4ac7aaab-7c26-40ca-8f63-cf2ef9541ce6",
   "metadata": {},
   "source": [
    "You can view the first 3 rows of a dataframe using the `head` method. Similarly, if you wanted to see the last 3, you can use `tail(3)`"
   ]
  },
  {
   "cell_type": "markdown",
   "id": "966c3948-41c0-4183-9118-dd665c58a93c",
   "metadata": {},
   "source": [
    "---\n",
    "\n",
    "## Descriptive statistics of data\n",
    "\n",
    "### Data types\n",
    "\n",
    "It is useful to first understand the data that you're dealing with along with the data types of each column. The data types may dictate how you transform and engineer features.\n",
    "\n",
    "To get an overview of the data types within a data frame, use the `info()` method."
   ]
  },
  {
   "cell_type": "code",
   "execution_count": 13,
   "id": "68b3ebb9",
   "metadata": {},
   "outputs": [
    {
     "data": {
      "text/html": [
       "<div>\n",
       "<style scoped>\n",
       "    .dataframe tbody tr th:only-of-type {\n",
       "        vertical-align: middle;\n",
       "    }\n",
       "\n",
       "    .dataframe tbody tr th {\n",
       "        vertical-align: top;\n",
       "    }\n",
       "\n",
       "    .dataframe thead th {\n",
       "        text-align: right;\n",
       "    }\n",
       "</style>\n",
       "<table border=\"1\" class=\"dataframe\">\n",
       "  <thead>\n",
       "    <tr style=\"text-align: right;\">\n",
       "      <th></th>\n",
       "      <th>id</th>\n",
       "      <th>channel_sales</th>\n",
       "      <th>cons_12m</th>\n",
       "      <th>cons_gas_12m</th>\n",
       "      <th>cons_last_month</th>\n",
       "      <th>date_activ</th>\n",
       "      <th>date_end</th>\n",
       "      <th>date_modif_prod</th>\n",
       "      <th>date_renewal</th>\n",
       "      <th>forecast_cons_12m</th>\n",
       "      <th>...</th>\n",
       "      <th>has_gas</th>\n",
       "      <th>imp_cons</th>\n",
       "      <th>margin_gross_pow_ele</th>\n",
       "      <th>margin_net_pow_ele</th>\n",
       "      <th>nb_prod_act</th>\n",
       "      <th>net_margin</th>\n",
       "      <th>num_years_antig</th>\n",
       "      <th>origin_up</th>\n",
       "      <th>pow_max</th>\n",
       "      <th>churn</th>\n",
       "    </tr>\n",
       "  </thead>\n",
       "  <tbody>\n",
       "    <tr>\n",
       "      <th>0</th>\n",
       "      <td>24011ae4ebbe3035111d65fa7c15bc57</td>\n",
       "      <td>foosdfpfkusacimwkcsosbicdxkicaua</td>\n",
       "      <td>0</td>\n",
       "      <td>54946</td>\n",
       "      <td>0</td>\n",
       "      <td>2013-06-15</td>\n",
       "      <td>2016-06-15</td>\n",
       "      <td>2015-11-01</td>\n",
       "      <td>2015-06-23</td>\n",
       "      <td>0.00</td>\n",
       "      <td>...</td>\n",
       "      <td>t</td>\n",
       "      <td>0.00</td>\n",
       "      <td>25.44</td>\n",
       "      <td>25.44</td>\n",
       "      <td>2</td>\n",
       "      <td>678.99</td>\n",
       "      <td>3</td>\n",
       "      <td>lxidpiddsbxsbosboudacockeimpuepw</td>\n",
       "      <td>43.648</td>\n",
       "      <td>1</td>\n",
       "    </tr>\n",
       "    <tr>\n",
       "      <th>1</th>\n",
       "      <td>d29c2c54acc38ff3c0614d0a653813dd</td>\n",
       "      <td>MISSING</td>\n",
       "      <td>4660</td>\n",
       "      <td>0</td>\n",
       "      <td>0</td>\n",
       "      <td>2009-08-21</td>\n",
       "      <td>2016-08-30</td>\n",
       "      <td>2009-08-21</td>\n",
       "      <td>2015-08-31</td>\n",
       "      <td>189.95</td>\n",
       "      <td>...</td>\n",
       "      <td>f</td>\n",
       "      <td>0.00</td>\n",
       "      <td>16.38</td>\n",
       "      <td>16.38</td>\n",
       "      <td>1</td>\n",
       "      <td>18.89</td>\n",
       "      <td>6</td>\n",
       "      <td>kamkkxfxxuwbdslkwifmmcsiusiuosws</td>\n",
       "      <td>13.800</td>\n",
       "      <td>0</td>\n",
       "    </tr>\n",
       "    <tr>\n",
       "      <th>2</th>\n",
       "      <td>764c75f661154dac3a6c254cd082ea7d</td>\n",
       "      <td>foosdfpfkusacimwkcsosbicdxkicaua</td>\n",
       "      <td>544</td>\n",
       "      <td>0</td>\n",
       "      <td>0</td>\n",
       "      <td>2010-04-16</td>\n",
       "      <td>2016-04-16</td>\n",
       "      <td>2010-04-16</td>\n",
       "      <td>2015-04-17</td>\n",
       "      <td>47.96</td>\n",
       "      <td>...</td>\n",
       "      <td>f</td>\n",
       "      <td>0.00</td>\n",
       "      <td>28.60</td>\n",
       "      <td>28.60</td>\n",
       "      <td>1</td>\n",
       "      <td>6.60</td>\n",
       "      <td>6</td>\n",
       "      <td>kamkkxfxxuwbdslkwifmmcsiusiuosws</td>\n",
       "      <td>13.856</td>\n",
       "      <td>0</td>\n",
       "    </tr>\n",
       "    <tr>\n",
       "      <th>3</th>\n",
       "      <td>bba03439a292a1e166f80264c16191cb</td>\n",
       "      <td>lmkebamcaaclubfxadlmueccxoimlema</td>\n",
       "      <td>1584</td>\n",
       "      <td>0</td>\n",
       "      <td>0</td>\n",
       "      <td>2010-03-30</td>\n",
       "      <td>2016-03-30</td>\n",
       "      <td>2010-03-30</td>\n",
       "      <td>2015-03-31</td>\n",
       "      <td>240.04</td>\n",
       "      <td>...</td>\n",
       "      <td>f</td>\n",
       "      <td>0.00</td>\n",
       "      <td>30.22</td>\n",
       "      <td>30.22</td>\n",
       "      <td>1</td>\n",
       "      <td>25.46</td>\n",
       "      <td>6</td>\n",
       "      <td>kamkkxfxxuwbdslkwifmmcsiusiuosws</td>\n",
       "      <td>13.200</td>\n",
       "      <td>0</td>\n",
       "    </tr>\n",
       "    <tr>\n",
       "      <th>4</th>\n",
       "      <td>149d57cf92fc41cf94415803a877cb4b</td>\n",
       "      <td>MISSING</td>\n",
       "      <td>4425</td>\n",
       "      <td>0</td>\n",
       "      <td>526</td>\n",
       "      <td>2010-01-13</td>\n",
       "      <td>2016-03-07</td>\n",
       "      <td>2010-01-13</td>\n",
       "      <td>2015-03-09</td>\n",
       "      <td>445.75</td>\n",
       "      <td>...</td>\n",
       "      <td>f</td>\n",
       "      <td>52.32</td>\n",
       "      <td>44.91</td>\n",
       "      <td>44.91</td>\n",
       "      <td>1</td>\n",
       "      <td>47.98</td>\n",
       "      <td>6</td>\n",
       "      <td>kamkkxfxxuwbdslkwifmmcsiusiuosws</td>\n",
       "      <td>19.800</td>\n",
       "      <td>0</td>\n",
       "    </tr>\n",
       "    <tr>\n",
       "      <th>5</th>\n",
       "      <td>1aa498825382410b098937d65c4ec26d</td>\n",
       "      <td>usilxuppasemubllopkaafesmlibmsdf</td>\n",
       "      <td>8302</td>\n",
       "      <td>0</td>\n",
       "      <td>1998</td>\n",
       "      <td>2011-12-09</td>\n",
       "      <td>2016-12-09</td>\n",
       "      <td>2015-11-01</td>\n",
       "      <td>2015-12-10</td>\n",
       "      <td>796.94</td>\n",
       "      <td>...</td>\n",
       "      <td>f</td>\n",
       "      <td>181.21</td>\n",
       "      <td>33.12</td>\n",
       "      <td>33.12</td>\n",
       "      <td>1</td>\n",
       "      <td>118.89</td>\n",
       "      <td>4</td>\n",
       "      <td>lxidpiddsbxsbosboudacockeimpuepw</td>\n",
       "      <td>13.200</td>\n",
       "      <td>1</td>\n",
       "    </tr>\n",
       "    <tr>\n",
       "      <th>6</th>\n",
       "      <td>7ab4bf4878d8f7661dfc20e9b8e18011</td>\n",
       "      <td>foosdfpfkusacimwkcsosbicdxkicaua</td>\n",
       "      <td>45097</td>\n",
       "      <td>0</td>\n",
       "      <td>0</td>\n",
       "      <td>2011-12-02</td>\n",
       "      <td>2016-12-02</td>\n",
       "      <td>2011-12-02</td>\n",
       "      <td>2015-12-03</td>\n",
       "      <td>8069.28</td>\n",
       "      <td>...</td>\n",
       "      <td>f</td>\n",
       "      <td>0.00</td>\n",
       "      <td>4.04</td>\n",
       "      <td>4.04</td>\n",
       "      <td>1</td>\n",
       "      <td>346.63</td>\n",
       "      <td>4</td>\n",
       "      <td>lxidpiddsbxsbosboudacockeimpuepw</td>\n",
       "      <td>15.000</td>\n",
       "      <td>1</td>\n",
       "    </tr>\n",
       "    <tr>\n",
       "      <th>7</th>\n",
       "      <td>01495c955be7ec5e7f3203406785aae0</td>\n",
       "      <td>foosdfpfkusacimwkcsosbicdxkicaua</td>\n",
       "      <td>29552</td>\n",
       "      <td>0</td>\n",
       "      <td>1260</td>\n",
       "      <td>2010-04-21</td>\n",
       "      <td>2016-04-21</td>\n",
       "      <td>2010-04-21</td>\n",
       "      <td>2015-04-22</td>\n",
       "      <td>864.73</td>\n",
       "      <td>...</td>\n",
       "      <td>f</td>\n",
       "      <td>70.63</td>\n",
       "      <td>53.92</td>\n",
       "      <td>53.92</td>\n",
       "      <td>1</td>\n",
       "      <td>100.09</td>\n",
       "      <td>6</td>\n",
       "      <td>lxidpiddsbxsbosboudacockeimpuepw</td>\n",
       "      <td>26.400</td>\n",
       "      <td>0</td>\n",
       "    </tr>\n",
       "    <tr>\n",
       "      <th>8</th>\n",
       "      <td>f53a254b1115634330c12c7fdbf7958a</td>\n",
       "      <td>usilxuppasemubllopkaafesmlibmsdf</td>\n",
       "      <td>2962</td>\n",
       "      <td>0</td>\n",
       "      <td>0</td>\n",
       "      <td>2011-09-23</td>\n",
       "      <td>2016-09-23</td>\n",
       "      <td>2011-09-23</td>\n",
       "      <td>2015-09-25</td>\n",
       "      <td>444.38</td>\n",
       "      <td>...</td>\n",
       "      <td>f</td>\n",
       "      <td>0.00</td>\n",
       "      <td>12.82</td>\n",
       "      <td>12.82</td>\n",
       "      <td>1</td>\n",
       "      <td>42.59</td>\n",
       "      <td>4</td>\n",
       "      <td>kamkkxfxxuwbdslkwifmmcsiusiuosws</td>\n",
       "      <td>13.200</td>\n",
       "      <td>0</td>\n",
       "    </tr>\n",
       "    <tr>\n",
       "      <th>9</th>\n",
       "      <td>10c1b2f97a2d2a6f10299dc213d1a370</td>\n",
       "      <td>lmkebamcaaclubfxadlmueccxoimlema</td>\n",
       "      <td>26064</td>\n",
       "      <td>0</td>\n",
       "      <td>2188</td>\n",
       "      <td>2010-05-04</td>\n",
       "      <td>2016-05-04</td>\n",
       "      <td>2015-04-29</td>\n",
       "      <td>2015-05-05</td>\n",
       "      <td>2738.10</td>\n",
       "      <td>...</td>\n",
       "      <td>f</td>\n",
       "      <td>219.59</td>\n",
       "      <td>33.42</td>\n",
       "      <td>33.42</td>\n",
       "      <td>1</td>\n",
       "      <td>329.60</td>\n",
       "      <td>6</td>\n",
       "      <td>lxidpiddsbxsbosboudacockeimpuepw</td>\n",
       "      <td>31.500</td>\n",
       "      <td>0</td>\n",
       "    </tr>\n",
       "  </tbody>\n",
       "</table>\n",
       "<p>10 rows × 26 columns</p>\n",
       "</div>"
      ],
      "text/plain": [
       "                                 id                     channel_sales  \\\n",
       "0  24011ae4ebbe3035111d65fa7c15bc57  foosdfpfkusacimwkcsosbicdxkicaua   \n",
       "1  d29c2c54acc38ff3c0614d0a653813dd                           MISSING   \n",
       "2  764c75f661154dac3a6c254cd082ea7d  foosdfpfkusacimwkcsosbicdxkicaua   \n",
       "3  bba03439a292a1e166f80264c16191cb  lmkebamcaaclubfxadlmueccxoimlema   \n",
       "4  149d57cf92fc41cf94415803a877cb4b                           MISSING   \n",
       "5  1aa498825382410b098937d65c4ec26d  usilxuppasemubllopkaafesmlibmsdf   \n",
       "6  7ab4bf4878d8f7661dfc20e9b8e18011  foosdfpfkusacimwkcsosbicdxkicaua   \n",
       "7  01495c955be7ec5e7f3203406785aae0  foosdfpfkusacimwkcsosbicdxkicaua   \n",
       "8  f53a254b1115634330c12c7fdbf7958a  usilxuppasemubllopkaafesmlibmsdf   \n",
       "9  10c1b2f97a2d2a6f10299dc213d1a370  lmkebamcaaclubfxadlmueccxoimlema   \n",
       "\n",
       "   cons_12m  cons_gas_12m  cons_last_month  date_activ    date_end  \\\n",
       "0         0         54946                0  2013-06-15  2016-06-15   \n",
       "1      4660             0                0  2009-08-21  2016-08-30   \n",
       "2       544             0                0  2010-04-16  2016-04-16   \n",
       "3      1584             0                0  2010-03-30  2016-03-30   \n",
       "4      4425             0              526  2010-01-13  2016-03-07   \n",
       "5      8302             0             1998  2011-12-09  2016-12-09   \n",
       "6     45097             0                0  2011-12-02  2016-12-02   \n",
       "7     29552             0             1260  2010-04-21  2016-04-21   \n",
       "8      2962             0                0  2011-09-23  2016-09-23   \n",
       "9     26064             0             2188  2010-05-04  2016-05-04   \n",
       "\n",
       "  date_modif_prod date_renewal  forecast_cons_12m  ...  has_gas  imp_cons  \\\n",
       "0      2015-11-01   2015-06-23               0.00  ...        t      0.00   \n",
       "1      2009-08-21   2015-08-31             189.95  ...        f      0.00   \n",
       "2      2010-04-16   2015-04-17              47.96  ...        f      0.00   \n",
       "3      2010-03-30   2015-03-31             240.04  ...        f      0.00   \n",
       "4      2010-01-13   2015-03-09             445.75  ...        f     52.32   \n",
       "5      2015-11-01   2015-12-10             796.94  ...        f    181.21   \n",
       "6      2011-12-02   2015-12-03            8069.28  ...        f      0.00   \n",
       "7      2010-04-21   2015-04-22             864.73  ...        f     70.63   \n",
       "8      2011-09-23   2015-09-25             444.38  ...        f      0.00   \n",
       "9      2015-04-29   2015-05-05            2738.10  ...        f    219.59   \n",
       "\n",
       "   margin_gross_pow_ele  margin_net_pow_ele  nb_prod_act  net_margin  \\\n",
       "0                 25.44               25.44            2      678.99   \n",
       "1                 16.38               16.38            1       18.89   \n",
       "2                 28.60               28.60            1        6.60   \n",
       "3                 30.22               30.22            1       25.46   \n",
       "4                 44.91               44.91            1       47.98   \n",
       "5                 33.12               33.12            1      118.89   \n",
       "6                  4.04                4.04            1      346.63   \n",
       "7                 53.92               53.92            1      100.09   \n",
       "8                 12.82               12.82            1       42.59   \n",
       "9                 33.42               33.42            1      329.60   \n",
       "\n",
       "  num_years_antig                         origin_up  pow_max  churn  \n",
       "0               3  lxidpiddsbxsbosboudacockeimpuepw   43.648      1  \n",
       "1               6  kamkkxfxxuwbdslkwifmmcsiusiuosws   13.800      0  \n",
       "2               6  kamkkxfxxuwbdslkwifmmcsiusiuosws   13.856      0  \n",
       "3               6  kamkkxfxxuwbdslkwifmmcsiusiuosws   13.200      0  \n",
       "4               6  kamkkxfxxuwbdslkwifmmcsiusiuosws   19.800      0  \n",
       "5               4  lxidpiddsbxsbosboudacockeimpuepw   13.200      1  \n",
       "6               4  lxidpiddsbxsbosboudacockeimpuepw   15.000      1  \n",
       "7               6  lxidpiddsbxsbosboudacockeimpuepw   26.400      0  \n",
       "8               4  kamkkxfxxuwbdslkwifmmcsiusiuosws   13.200      0  \n",
       "9               6  lxidpiddsbxsbosboudacockeimpuepw   31.500      0  \n",
       "\n",
       "[10 rows x 26 columns]"
      ]
     },
     "execution_count": 13,
     "metadata": {},
     "output_type": "execute_result"
    }
   ],
   "source": [
    "client_df.head(10)"
   ]
  },
  {
   "cell_type": "code",
   "execution_count": 22,
   "id": "42cb04a0",
   "metadata": {},
   "outputs": [
    {
     "data": {
      "text/html": [
       "<div>\n",
       "<style scoped>\n",
       "    .dataframe tbody tr th:only-of-type {\n",
       "        vertical-align: middle;\n",
       "    }\n",
       "\n",
       "    .dataframe tbody tr th {\n",
       "        vertical-align: top;\n",
       "    }\n",
       "\n",
       "    .dataframe thead th {\n",
       "        text-align: right;\n",
       "    }\n",
       "</style>\n",
       "<table border=\"1\" class=\"dataframe\">\n",
       "  <thead>\n",
       "    <tr style=\"text-align: right;\">\n",
       "      <th></th>\n",
       "      <th>id</th>\n",
       "      <th>price_date</th>\n",
       "      <th>price_off_peak_var</th>\n",
       "      <th>price_peak_var</th>\n",
       "      <th>price_mid_peak_var</th>\n",
       "      <th>price_off_peak_fix</th>\n",
       "      <th>price_peak_fix</th>\n",
       "      <th>price_mid_peak_fix</th>\n",
       "    </tr>\n",
       "  </thead>\n",
       "  <tbody>\n",
       "    <tr>\n",
       "      <th>0</th>\n",
       "      <td>038af19179925da21a25619c5a24b745</td>\n",
       "      <td>2015-01-01</td>\n",
       "      <td>0.151367</td>\n",
       "      <td>0.000000</td>\n",
       "      <td>0.000000</td>\n",
       "      <td>44.266931</td>\n",
       "      <td>0.000000</td>\n",
       "      <td>0.000000</td>\n",
       "    </tr>\n",
       "    <tr>\n",
       "      <th>1</th>\n",
       "      <td>038af19179925da21a25619c5a24b745</td>\n",
       "      <td>2015-02-01</td>\n",
       "      <td>0.151367</td>\n",
       "      <td>0.000000</td>\n",
       "      <td>0.000000</td>\n",
       "      <td>44.266931</td>\n",
       "      <td>0.000000</td>\n",
       "      <td>0.000000</td>\n",
       "    </tr>\n",
       "    <tr>\n",
       "      <th>2</th>\n",
       "      <td>038af19179925da21a25619c5a24b745</td>\n",
       "      <td>2015-03-01</td>\n",
       "      <td>0.151367</td>\n",
       "      <td>0.000000</td>\n",
       "      <td>0.000000</td>\n",
       "      <td>44.266931</td>\n",
       "      <td>0.000000</td>\n",
       "      <td>0.000000</td>\n",
       "    </tr>\n",
       "    <tr>\n",
       "      <th>3</th>\n",
       "      <td>038af19179925da21a25619c5a24b745</td>\n",
       "      <td>2015-04-01</td>\n",
       "      <td>0.149626</td>\n",
       "      <td>0.000000</td>\n",
       "      <td>0.000000</td>\n",
       "      <td>44.266931</td>\n",
       "      <td>0.000000</td>\n",
       "      <td>0.000000</td>\n",
       "    </tr>\n",
       "    <tr>\n",
       "      <th>4</th>\n",
       "      <td>038af19179925da21a25619c5a24b745</td>\n",
       "      <td>2015-05-01</td>\n",
       "      <td>0.149626</td>\n",
       "      <td>0.000000</td>\n",
       "      <td>0.000000</td>\n",
       "      <td>44.266931</td>\n",
       "      <td>0.000000</td>\n",
       "      <td>0.000000</td>\n",
       "    </tr>\n",
       "    <tr>\n",
       "      <th>5</th>\n",
       "      <td>038af19179925da21a25619c5a24b745</td>\n",
       "      <td>2015-06-01</td>\n",
       "      <td>0.149626</td>\n",
       "      <td>0.000000</td>\n",
       "      <td>0.000000</td>\n",
       "      <td>44.266930</td>\n",
       "      <td>0.000000</td>\n",
       "      <td>0.000000</td>\n",
       "    </tr>\n",
       "    <tr>\n",
       "      <th>6</th>\n",
       "      <td>038af19179925da21a25619c5a24b745</td>\n",
       "      <td>2015-07-01</td>\n",
       "      <td>0.150321</td>\n",
       "      <td>0.000000</td>\n",
       "      <td>0.000000</td>\n",
       "      <td>44.444710</td>\n",
       "      <td>0.000000</td>\n",
       "      <td>0.000000</td>\n",
       "    </tr>\n",
       "    <tr>\n",
       "      <th>7</th>\n",
       "      <td>038af19179925da21a25619c5a24b745</td>\n",
       "      <td>2015-08-01</td>\n",
       "      <td>0.145859</td>\n",
       "      <td>0.000000</td>\n",
       "      <td>0.000000</td>\n",
       "      <td>44.444710</td>\n",
       "      <td>0.000000</td>\n",
       "      <td>0.000000</td>\n",
       "    </tr>\n",
       "    <tr>\n",
       "      <th>8</th>\n",
       "      <td>038af19179925da21a25619c5a24b745</td>\n",
       "      <td>2015-09-01</td>\n",
       "      <td>0.145859</td>\n",
       "      <td>0.000000</td>\n",
       "      <td>0.000000</td>\n",
       "      <td>44.444710</td>\n",
       "      <td>0.000000</td>\n",
       "      <td>0.000000</td>\n",
       "    </tr>\n",
       "    <tr>\n",
       "      <th>9</th>\n",
       "      <td>038af19179925da21a25619c5a24b745</td>\n",
       "      <td>2015-10-01</td>\n",
       "      <td>0.145859</td>\n",
       "      <td>0.000000</td>\n",
       "      <td>0.000000</td>\n",
       "      <td>44.444710</td>\n",
       "      <td>0.000000</td>\n",
       "      <td>0.000000</td>\n",
       "    </tr>\n",
       "    <tr>\n",
       "      <th>10</th>\n",
       "      <td>038af19179925da21a25619c5a24b745</td>\n",
       "      <td>2015-11-01</td>\n",
       "      <td>0.145859</td>\n",
       "      <td>0.000000</td>\n",
       "      <td>0.000000</td>\n",
       "      <td>44.444710</td>\n",
       "      <td>0.000000</td>\n",
       "      <td>0.000000</td>\n",
       "    </tr>\n",
       "    <tr>\n",
       "      <th>11</th>\n",
       "      <td>038af19179925da21a25619c5a24b745</td>\n",
       "      <td>2015-12-01</td>\n",
       "      <td>0.145859</td>\n",
       "      <td>0.000000</td>\n",
       "      <td>0.000000</td>\n",
       "      <td>44.444710</td>\n",
       "      <td>0.000000</td>\n",
       "      <td>0.000000</td>\n",
       "    </tr>\n",
       "    <tr>\n",
       "      <th>12</th>\n",
       "      <td>31f2ce549924679a3cbb2d128ae9ea43</td>\n",
       "      <td>2015-01-01</td>\n",
       "      <td>0.125976</td>\n",
       "      <td>0.103395</td>\n",
       "      <td>0.071536</td>\n",
       "      <td>40.565969</td>\n",
       "      <td>24.339581</td>\n",
       "      <td>16.226389</td>\n",
       "    </tr>\n",
       "    <tr>\n",
       "      <th>13</th>\n",
       "      <td>31f2ce549924679a3cbb2d128ae9ea43</td>\n",
       "      <td>2015-02-01</td>\n",
       "      <td>0.125976</td>\n",
       "      <td>0.103395</td>\n",
       "      <td>0.071536</td>\n",
       "      <td>40.565969</td>\n",
       "      <td>24.339581</td>\n",
       "      <td>16.226389</td>\n",
       "    </tr>\n",
       "    <tr>\n",
       "      <th>14</th>\n",
       "      <td>31f2ce549924679a3cbb2d128ae9ea43</td>\n",
       "      <td>2015-03-01</td>\n",
       "      <td>0.125976</td>\n",
       "      <td>0.103395</td>\n",
       "      <td>0.071536</td>\n",
       "      <td>40.565969</td>\n",
       "      <td>24.339581</td>\n",
       "      <td>16.226389</td>\n",
       "    </tr>\n",
       "  </tbody>\n",
       "</table>\n",
       "</div>"
      ],
      "text/plain": [
       "                                  id  price_date  price_off_peak_var  \\\n",
       "0   038af19179925da21a25619c5a24b745  2015-01-01            0.151367   \n",
       "1   038af19179925da21a25619c5a24b745  2015-02-01            0.151367   \n",
       "2   038af19179925da21a25619c5a24b745  2015-03-01            0.151367   \n",
       "3   038af19179925da21a25619c5a24b745  2015-04-01            0.149626   \n",
       "4   038af19179925da21a25619c5a24b745  2015-05-01            0.149626   \n",
       "5   038af19179925da21a25619c5a24b745  2015-06-01            0.149626   \n",
       "6   038af19179925da21a25619c5a24b745  2015-07-01            0.150321   \n",
       "7   038af19179925da21a25619c5a24b745  2015-08-01            0.145859   \n",
       "8   038af19179925da21a25619c5a24b745  2015-09-01            0.145859   \n",
       "9   038af19179925da21a25619c5a24b745  2015-10-01            0.145859   \n",
       "10  038af19179925da21a25619c5a24b745  2015-11-01            0.145859   \n",
       "11  038af19179925da21a25619c5a24b745  2015-12-01            0.145859   \n",
       "12  31f2ce549924679a3cbb2d128ae9ea43  2015-01-01            0.125976   \n",
       "13  31f2ce549924679a3cbb2d128ae9ea43  2015-02-01            0.125976   \n",
       "14  31f2ce549924679a3cbb2d128ae9ea43  2015-03-01            0.125976   \n",
       "\n",
       "    price_peak_var  price_mid_peak_var  price_off_peak_fix  price_peak_fix  \\\n",
       "0         0.000000            0.000000           44.266931        0.000000   \n",
       "1         0.000000            0.000000           44.266931        0.000000   \n",
       "2         0.000000            0.000000           44.266931        0.000000   \n",
       "3         0.000000            0.000000           44.266931        0.000000   \n",
       "4         0.000000            0.000000           44.266931        0.000000   \n",
       "5         0.000000            0.000000           44.266930        0.000000   \n",
       "6         0.000000            0.000000           44.444710        0.000000   \n",
       "7         0.000000            0.000000           44.444710        0.000000   \n",
       "8         0.000000            0.000000           44.444710        0.000000   \n",
       "9         0.000000            0.000000           44.444710        0.000000   \n",
       "10        0.000000            0.000000           44.444710        0.000000   \n",
       "11        0.000000            0.000000           44.444710        0.000000   \n",
       "12        0.103395            0.071536           40.565969       24.339581   \n",
       "13        0.103395            0.071536           40.565969       24.339581   \n",
       "14        0.103395            0.071536           40.565969       24.339581   \n",
       "\n",
       "    price_mid_peak_fix  \n",
       "0             0.000000  \n",
       "1             0.000000  \n",
       "2             0.000000  \n",
       "3             0.000000  \n",
       "4             0.000000  \n",
       "5             0.000000  \n",
       "6             0.000000  \n",
       "7             0.000000  \n",
       "8             0.000000  \n",
       "9             0.000000  \n",
       "10            0.000000  \n",
       "11            0.000000  \n",
       "12           16.226389  \n",
       "13           16.226389  \n",
       "14           16.226389  "
      ]
     },
     "execution_count": 22,
     "metadata": {},
     "output_type": "execute_result"
    }
   ],
   "source": [
    "price_df.head(15)"
   ]
  },
  {
   "cell_type": "code",
   "execution_count": null,
   "id": "2dc75b07-c286-4852-bc33-e501782e67d9",
   "metadata": {},
   "outputs": [],
   "source": [
    "client_df.info()"
   ]
  },
  {
   "cell_type": "code",
   "execution_count": null,
   "id": "b67f2628-351a-48ee-b8ba-88c54042af88",
   "metadata": {},
   "outputs": [],
   "source": [
    "price_df.info()"
   ]
  },
  {
   "cell_type": "markdown",
   "id": "3d7e80c5-ef07-47a7-908a-a081b3ebd09e",
   "metadata": {},
   "source": [
    "### Statistics\n",
    "\n",
    "Now let's look at some statistics about the datasets. We can do this by using the `describe()` method."
   ]
  },
  {
   "cell_type": "code",
   "execution_count": null,
   "id": "60f3010c-ecaf-4b8a-bb87-93bb54cc0c7e",
   "metadata": {},
   "outputs": [],
   "source": [
    "client_df.describe()"
   ]
  },
  {
   "cell_type": "code",
   "execution_count": null,
   "id": "f8b442e6-e186-42f9-b3c5-c5c15cd8c82a",
   "metadata": {},
   "outputs": [],
   "source": [
    "price_df.describe()"
   ]
  },
  {
   "cell_type": "markdown",
   "id": "6b6634cf",
   "metadata": {},
   "source": [
    "CHURN"
   ]
  },
  {
   "cell_type": "code",
   "execution_count": 21,
   "id": "a94975e9",
   "metadata": {},
   "outputs": [
    {
     "name": "stdout",
     "output_type": "stream",
     "text": [
      "churn\n",
      "0    90.284814\n",
      "1     9.715186\n",
      "Name: proportion, dtype: float64\n"
     ]
    },
    {
     "data": {
      "image/png": "[encoded data removed]",
      "text/plain": [
       "<Figure size 800x500 with 1 Axes>"
      ]
     },
     "metadata": {},
     "output_type": "display_data"
    }
   ],
   "source": [
    "churn = client_df[['id', 'churn']]\n",
    "churn_count = churn['churn'].value_counts()\n",
    "churn_percentage = churn['churn'].value_counts(normalize=True) * 100\n",
    "\n",
    "print(churn_percentage)\n",
    "\n",
    "plt.figure(figsize=(8,5))\n",
    "ax = churn_percentage.plot(kind='bar', color=['green','red'])\n",
    "\n",
    "for i,v in enumerate(churn_percentage):\n",
    "    ax.text(i, v + 1, f'{v:.1f}%', ha='center', fontsize=12)\n",
    "\n",
    "plt.show()\n"
   ]
  },
  {
   "cell_type": "markdown",
   "id": "f53c57c5",
   "metadata": {},
   "source": [
    "The Churn distribution looks like majority of it is still retention and 9.7% customer is churn"
   ]
  },
  {
   "cell_type": "markdown",
   "id": "108c5725",
   "metadata": {},
   "source": [
    "SALES CHANNEL correlation with churn"
   ]
  },
  {
   "cell_type": "code",
   "execution_count": 26,
   "id": "b91e4e9c",
   "metadata": {},
   "outputs": [
    {
     "data": {
      "text/plain": [
       "Text(0.5, 1.0, 'sales_channel with its Churn rate')"
      ]
     },
     "execution_count": 26,
     "metadata": {},
     "output_type": "execute_result"
    },
    {
     "data": {
      "image/png": "[encoded data removed]",
      "text/plain": [
       "<Figure size 1000x600 with 1 Axes>"
      ]
     },
     "metadata": {},
     "output_type": "display_data"
    }
   ],
   "source": [
    "sales_channel = client_df[['channel_sales', 'churn']]\n",
    "sales_channel_count = sales_channel.groupby(['channel_sales', 'churn']).size().unstack(fill_value=0)\n",
    "churn_rate_per_channel = (sales_channel_count[1] / (sales_channel_count[0] + sales_channel_count[1])).sort_values(ascending=False)\n",
    "# print(churn_rate_per_channel)\n",
    "\n",
    "\n",
    "fig, ax = plt.subplots(figsize=(10, 6))\n",
    "bars = ax.bar(\n",
    "    churn_rate_per_channel.index, \n",
    "    churn_rate_per_channel.values, \n",
    "    color='red'\n",
    ")\n",
    "\n",
    "for bar in bars:\n",
    "    height = bar.get_height()\n",
    "    ax.text(\n",
    "        bar.get_x() + bar.get_width() / 2,  # Posisi X (tengah bar)\n",
    "        height,  # Posisi Y (sedikit di atas bar)\n",
    "        f'{height*100:.1f}%',  # Format persentase\n",
    "        ha='center',  # Menempatkan teks di tengah\n",
    "        va='bottom',  # Menempatkan teks sedikit di atas bar\n",
    "        fontsize=10\n",
    "    )\n",
    "    \n",
    "\n",
    "ax.tick_params(axis='x', rotation=50, labelsize=7)\n",
    "ax.set_title('sales_channel with its Churn rate')\n",
    "\n",
    "\n"
   ]
  },
  {
   "cell_type": "markdown",
   "id": "14269f93",
   "metadata": {},
   "source": [
    "this graph show each sales chanel with their churn rate, missing sales chanel were added by team because missing value. there are 5 sales chanel that consist of churn customer and the rest is retention."
   ]
  },
  {
   "cell_type": "markdown",
   "id": "5246b1ca",
   "metadata": {},
   "source": [
    "HAS GAS "
   ]
  },
  {
   "cell_type": "code",
   "execution_count": null,
   "id": "477fd3f9",
   "metadata": {},
   "outputs": [
    {
     "name": "stdout",
     "output_type": "stream",
     "text": [
      "churn        0     1\n",
      "has_gas             \n",
      "f        10753  1202\n",
      "t         2434   217\n"
     ]
    },
    {
     "data": {
      "image/png": "[encoded data removed]",
      "text/plain": [
       "<Figure size 1000x600 with 1 Axes>"
      ]
     },
     "metadata": {},
     "output_type": "display_data"
    },
    {
     "name": "stdout",
     "output_type": "stream",
     "text": [
      "has_gas\n",
      "f    0.100544\n",
      "t    0.081856\n",
      "dtype: float64\n"
     ]
    }
   ],
   "source": [
    "has_gas = client_df[['has_gas', 'churn']]\n",
    "has_gas_count = has_gas.groupby(['has_gas','churn']).size().unstack()\n",
    "has_gas_rate = has_gas_count[1] / (has_gas_count[1] + has_gas_count[0])\n",
    "print(has_gas_count)\n",
    "\n",
    "fig,ax = plt.subplots(figsize=(10,6))\n",
    "ax.bar(\n",
    "    has_gas_rate.index,\n",
    "    has_gas_rate.values\n",
    ")\n",
    "ax.set_title(\"Churn rate with has gas label\")\n",
    "ax.set_xlabel(\"Has Gas (f = false, t = true)\")\n",
    "ax.set_ylabel(\"Churn Rate\")\n",
    "plt.show()\n",
    "print(has_gas_rate)\n",
    "\n"
   ]
  },
  {
   "cell_type": "markdown",
   "id": "de5516df",
   "metadata": {},
   "source": [
    "NET MARGIN VS CHURN"
   ]
  },
  {
   "cell_type": "code",
   "execution_count": 5,
   "id": "a943ea9b",
   "metadata": {},
   "outputs": [
    {
     "data": {
      "text/plain": [
       "<Axes: xlabel='churn', ylabel='net_margin'>"
      ]
     },
     "execution_count": 5,
     "metadata": {},
     "output_type": "execute_result"
    },
    {
     "data": {
      "image/png": "[encoded data removed]",
      "text/plain": [
       "<Figure size 640x480 with 1 Axes>"
      ]
     },
     "metadata": {},
     "output_type": "display_data"
    }
   ],
   "source": [
    "sns.boxplot(x ='churn', y='net_margin', data=client_df)"
   ]
  },
  {
   "cell_type": "markdown",
   "id": "f82ab399",
   "metadata": {},
   "source": [
    "In this boxplot, we observe outliers of customers with very high net margins who churned, which could potentially indicate significant loss"
   ]
  },
  {
   "cell_type": "code",
   "execution_count": 4,
   "id": "81ee5414",
   "metadata": {},
   "outputs": [
    {
     "data": {
      "text/plain": [
       "<Axes: xlabel='churn', ylabel='cons_12m'>"
      ]
     },
     "execution_count": 4,
     "metadata": {},
     "output_type": "execute_result"
    },
    {
     "data": {
      "image/png": "[encoded data removed]",
      "text/plain": [
       "<Figure size 640x480 with 1 Axes>"
      ]
     },
     "metadata": {},
     "output_type": "display_data"
    }
   ],
   "source": [
    "sns.boxplot(x='churn', y='cons_12m', data=client_df)"
   ]
  },
  {
   "cell_type": "markdown",
   "id": "d5127900",
   "metadata": {},
   "source": [
    "in comparison with cons_12m and churn we observe most of high consumtion customer is still on retention, and only a few is churn with high consumption of electricity"
   ]
  },
  {
   "cell_type": "code",
   "execution_count": 5,
   "id": "11b3a5ce",
   "metadata": {},
   "outputs": [
    {
     "data": {
      "text/plain": [
       "<Axes: xlabel='churn', ylabel='cons_gas_12m'>"
      ]
     },
     "execution_count": 5,
     "metadata": {},
     "output_type": "execute_result"
    },
    {
     "data": {
      "image/png": "[encoded data removed]",
      "text/plain": [
       "<Figure size 640x480 with 1 Axes>"
      ]
     },
     "metadata": {},
     "output_type": "display_data"
    }
   ],
   "source": [
    "sns.boxplot(x='churn', y='cons_gas_12m', data=client_df)"
   ]
  },
  {
   "cell_type": "code",
   "execution_count": 25,
   "id": "1dac8c08",
   "metadata": {},
   "outputs": [
    {
     "data": {
      "image/png": "[encoded data removed]",
      "text/plain": [
       "<Figure size 800x500 with 1 Axes>"
      ]
     },
     "metadata": {},
     "output_type": "display_data"
    },
    {
     "name": "stdout",
     "output_type": "stream",
     "text": [
      "origin_up\n",
      "lxidpiddsbxsbosboudacockeimpuepw    0.125828\n",
      "ldkssxwpmemidmecebumciepifcamkci    0.083863\n",
      "MISSING                             0.062500\n",
      "kamkkxfxxuwbdslkwifmmcsiusiuosws    0.060084\n",
      "ewxeelcelemmiwuafmddpobolfuxioce    0.000000\n",
      "usapbepcfoloekilkwsdiboslwaxobdp    0.000000\n",
      "dtype: float64\n"
     ]
    }
   ],
   "source": [
    "origin_up = client_df[['origin_up', 'churn']]\n",
    "origin_up_count = origin_up.groupby(['origin_up', 'churn']).size().unstack().fillna(0).astype(int)\n",
    "origin_up_rate = (origin_up_count[1] / (origin_up_count[1] + origin_up_count[0])).sort_values(ascending=False)\n",
    "\n",
    "\n",
    "fig,ax = plt.subplots(figsize=(8,5))\n",
    "bars = ax.bar(\n",
    "    origin_up_rate.index,\n",
    "    origin_up_rate.values,\n",
    ")\n",
    "\n",
    "for bar in bars:\n",
    "    height = bar.get_height()\n",
    "    ax.text(\n",
    "        bar.get_x() + bar.get_width() / 2,  \n",
    "        height, \n",
    "        f'{height*100:.1f}%',\n",
    "        ha='center',\n",
    "        va='bottom', \n",
    "        fontsize=10\n",
    "    )\n",
    "ax.tick_params(axis='x', rotation=50, labelsize=7)\n",
    "\n",
    "plt.show()\n",
    "\n",
    "print(origin_up_rate)"
   ]
  },
  {
   "cell_type": "markdown",
   "id": "4385b8b2",
   "metadata": {},
   "source": [
    "Each campaign with their churn rate based on customer first subscription"
   ]
  }
 ],
 "metadata": {
  "kernelspec": {
   "display_name": ".venv",
   "language": "python",
   "name": "python3"
  },
  "language_info": {
   "codemirror_mode": {
    "name": "ipython",
    "version": 3
   },
   "file_extension": ".py",
   "mimetype": "text/x-python",
   "name": "python",
   "nbconvert_exporter": "python",
   "pygments_lexer": "ipython3",
   "version": "3.12.4"
  }
 },
 "nbformat": 4,
 "nbformat_minor": 5
}
